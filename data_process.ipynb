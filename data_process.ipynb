{
 "cells": [
  {
   "cell_type": "code",
   "execution_count": 1,
   "metadata": {},
   "outputs": [],
   "source": [
    "corpus = open('corpus.data', encoding='utf-8', errors='ignore').readlines()\n",
    "all_sentences = corpus[0].split('<s>')[3:]\n",
    "\n",
    "errors = open('spellerrors.data', encoding='utf-8', errors='ignore').readlines()\n",
    "words_with_error = {}\n",
    "for words in errors:\n",
    "    l = words.strip('\\n').split(\":\")\n",
    "    wrong_words = l[1].split(\",\")\n",
    "    wrong_words = [w.strip(\" \") for w in wrong_words]\n",
    "    words_with_error[l[0]] = wrong_words"
   ]
  },
  {
   "cell_type": "code",
   "execution_count": 2,
   "metadata": {},
   "outputs": [],
   "source": [
    "right_wrong_sentences = []\n",
    "targets = []\n",
    "double_sentences = []\n",
    "targets_double = []\n",
    "for sentence in all_sentences:\n",
    "    right_wrong_sentences.append(sentence.strip(\" \"))\n",
    "    targets.append(0)\n",
    "    sentence_list = sentence.strip(\" \").split(\" \")\n",
    "    for i in range(len(sentence_list)):\n",
    "        word = sentence_list[i]\n",
    "        if word in words_with_error:\n",
    "            wrong_words = words_with_error[word]\n",
    "            for w in wrong_words:\n",
    "                double_sentences.append(sentence.strip(\" \"))\n",
    "                targets_double.append(0)\n",
    "\n",
    "                sentence_list[i] = w\n",
    "                right_wrong_sentences.append(\" \".join(sentence_list))\n",
    "                targets.append(1)\n",
    "                \n",
    "                double_sentences.append(\" \".join(sentence_list))\n",
    "                targets_double.append(1)"
   ]
  },
  {
   "cell_type": "code",
   "execution_count": 3,
   "metadata": {},
   "outputs": [
    {
     "data": {
      "text/plain": [
       "39698764"
      ]
     },
     "execution_count": 3,
     "metadata": {},
     "output_type": "execute_result"
    }
   ],
   "source": [
    "len(right_wrong_sentences)"
   ]
  },
  {
   "cell_type": "code",
   "execution_count": 4,
   "metadata": {},
   "outputs": [
    {
     "data": {
      "text/plain": [
       "78973064"
      ]
     },
     "execution_count": 4,
     "metadata": {},
     "output_type": "execute_result"
    }
   ],
   "source": [
    "len(double_sentences)"
   ]
  },
  {
   "cell_type": "code",
   "execution_count": 5,
   "metadata": {},
   "outputs": [
    {
     "data": {
      "text/plain": [
       "39698764"
      ]
     },
     "execution_count": 5,
     "metadata": {},
     "output_type": "execute_result"
    }
   ],
   "source": [
    "len(targets)"
   ]
  },
  {
   "cell_type": "code",
   "execution_count": null,
   "metadata": {},
   "outputs": [],
   "source": []
  }
 ],
 "metadata": {
  "kernelspec": {
   "display_name": "Python 3.8.8 ('base')",
   "language": "python",
   "name": "python3"
  },
  "language_info": {
   "codemirror_mode": {
    "name": "ipython",
    "version": 3
   },
   "file_extension": ".py",
   "mimetype": "text/x-python",
   "name": "python",
   "nbconvert_exporter": "python",
   "pygments_lexer": "ipython3",
   "version": "3.8.8"
  },
  "orig_nbformat": 4,
  "vscode": {
   "interpreter": {
    "hash": "e804f1da7be553420121a519f902e2d6e770aeaceee6db12c37e34f1e8cff415"
   }
  }
 },
 "nbformat": 4,
 "nbformat_minor": 2
}
